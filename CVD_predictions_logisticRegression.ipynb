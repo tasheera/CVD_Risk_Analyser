{
  "nbformat": 4,
  "nbformat_minor": 0,
  "metadata": {
    "colab": {
      "provenance": [],
      "authorship_tag": "ABX9TyPaA+rvO2K9lw9QfeFIUxzL",
      "include_colab_link": true
    },
    "kernelspec": {
      "name": "python3",
      "display_name": "Python 3"
    },
    "language_info": {
      "name": "python"
    }
  },
  "cells": [
    {
      "cell_type": "markdown",
      "metadata": {
        "id": "view-in-github",
        "colab_type": "text"
      },
      "source": [
        "<a href=\"https://colab.research.google.com/github/tasheera/CVD_Risk_Analyser/blob/MachineLearning/CVD_predictions_logisticRegression.ipynb\" target=\"_parent\"><img src=\"https://colab.research.google.com/assets/colab-badge.svg\" alt=\"Open In Colab\"/></a>"
      ]
    },
    {
      "cell_type": "code",
      "execution_count": 338,
      "metadata": {
        "colab": {
          "base_uri": "https://localhost:8080/",
          "height": 258
        },
        "id": "LoGlflX8CVEN",
        "outputId": "2784ce23-c25b-4584-a333-635e9e1a65be"
      },
      "outputs": [
        {
          "output_type": "execute_result",
          "data": {
            "text/plain": [
              "    age  gender  height  weight    bmi  bmi_status  systolic_BP  diastolic_BP  \\\n",
              "id                                                                              \n",
              "0    50       1     168    62.0  21.97           2          110            80   \n",
              "1    55       0     156    85.0  34.93           4          140            90   \n",
              "2    52       0     165    64.0  23.51           2          130            70   \n",
              "3    48       1     169    82.0  28.71           3          150           100   \n",
              "4    48       0     156    56.0  23.01           2          100            60   \n",
              "\n",
              "    cholesterol  glucose  smoking  alcohol  active  cardio  \n",
              "id                                                          \n",
              "0             0        0        0        0       1       0  \n",
              "1             2        0        0        0       1       1  \n",
              "2             2        0        0        0       0       1  \n",
              "3             0        0        0        0       1       1  \n",
              "4             0        0        0        0       0       0  "
            ],
            "text/html": [
              "\n",
              "  <div id=\"df-dab39826-6eff-45de-a87c-44680ee595a0\" class=\"colab-df-container\">\n",
              "    <div>\n",
              "<style scoped>\n",
              "    .dataframe tbody tr th:only-of-type {\n",
              "        vertical-align: middle;\n",
              "    }\n",
              "\n",
              "    .dataframe tbody tr th {\n",
              "        vertical-align: top;\n",
              "    }\n",
              "\n",
              "    .dataframe thead th {\n",
              "        text-align: right;\n",
              "    }\n",
              "</style>\n",
              "<table border=\"1\" class=\"dataframe\">\n",
              "  <thead>\n",
              "    <tr style=\"text-align: right;\">\n",
              "      <th></th>\n",
              "      <th>age</th>\n",
              "      <th>gender</th>\n",
              "      <th>height</th>\n",
              "      <th>weight</th>\n",
              "      <th>bmi</th>\n",
              "      <th>bmi_status</th>\n",
              "      <th>systolic_BP</th>\n",
              "      <th>diastolic_BP</th>\n",
              "      <th>cholesterol</th>\n",
              "      <th>glucose</th>\n",
              "      <th>smoking</th>\n",
              "      <th>alcohol</th>\n",
              "      <th>active</th>\n",
              "      <th>cardio</th>\n",
              "    </tr>\n",
              "    <tr>\n",
              "      <th>id</th>\n",
              "      <th></th>\n",
              "      <th></th>\n",
              "      <th></th>\n",
              "      <th></th>\n",
              "      <th></th>\n",
              "      <th></th>\n",
              "      <th></th>\n",
              "      <th></th>\n",
              "      <th></th>\n",
              "      <th></th>\n",
              "      <th></th>\n",
              "      <th></th>\n",
              "      <th></th>\n",
              "      <th></th>\n",
              "    </tr>\n",
              "  </thead>\n",
              "  <tbody>\n",
              "    <tr>\n",
              "      <th>0</th>\n",
              "      <td>50</td>\n",
              "      <td>1</td>\n",
              "      <td>168</td>\n",
              "      <td>62.0</td>\n",
              "      <td>21.97</td>\n",
              "      <td>2</td>\n",
              "      <td>110</td>\n",
              "      <td>80</td>\n",
              "      <td>0</td>\n",
              "      <td>0</td>\n",
              "      <td>0</td>\n",
              "      <td>0</td>\n",
              "      <td>1</td>\n",
              "      <td>0</td>\n",
              "    </tr>\n",
              "    <tr>\n",
              "      <th>1</th>\n",
              "      <td>55</td>\n",
              "      <td>0</td>\n",
              "      <td>156</td>\n",
              "      <td>85.0</td>\n",
              "      <td>34.93</td>\n",
              "      <td>4</td>\n",
              "      <td>140</td>\n",
              "      <td>90</td>\n",
              "      <td>2</td>\n",
              "      <td>0</td>\n",
              "      <td>0</td>\n",
              "      <td>0</td>\n",
              "      <td>1</td>\n",
              "      <td>1</td>\n",
              "    </tr>\n",
              "    <tr>\n",
              "      <th>2</th>\n",
              "      <td>52</td>\n",
              "      <td>0</td>\n",
              "      <td>165</td>\n",
              "      <td>64.0</td>\n",
              "      <td>23.51</td>\n",
              "      <td>2</td>\n",
              "      <td>130</td>\n",
              "      <td>70</td>\n",
              "      <td>2</td>\n",
              "      <td>0</td>\n",
              "      <td>0</td>\n",
              "      <td>0</td>\n",
              "      <td>0</td>\n",
              "      <td>1</td>\n",
              "    </tr>\n",
              "    <tr>\n",
              "      <th>3</th>\n",
              "      <td>48</td>\n",
              "      <td>1</td>\n",
              "      <td>169</td>\n",
              "      <td>82.0</td>\n",
              "      <td>28.71</td>\n",
              "      <td>3</td>\n",
              "      <td>150</td>\n",
              "      <td>100</td>\n",
              "      <td>0</td>\n",
              "      <td>0</td>\n",
              "      <td>0</td>\n",
              "      <td>0</td>\n",
              "      <td>1</td>\n",
              "      <td>1</td>\n",
              "    </tr>\n",
              "    <tr>\n",
              "      <th>4</th>\n",
              "      <td>48</td>\n",
              "      <td>0</td>\n",
              "      <td>156</td>\n",
              "      <td>56.0</td>\n",
              "      <td>23.01</td>\n",
              "      <td>2</td>\n",
              "      <td>100</td>\n",
              "      <td>60</td>\n",
              "      <td>0</td>\n",
              "      <td>0</td>\n",
              "      <td>0</td>\n",
              "      <td>0</td>\n",
              "      <td>0</td>\n",
              "      <td>0</td>\n",
              "    </tr>\n",
              "  </tbody>\n",
              "</table>\n",
              "</div>\n",
              "    <div class=\"colab-df-buttons\">\n",
              "\n",
              "  <div class=\"colab-df-container\">\n",
              "    <button class=\"colab-df-convert\" onclick=\"convertToInteractive('df-dab39826-6eff-45de-a87c-44680ee595a0')\"\n",
              "            title=\"Convert this dataframe to an interactive table.\"\n",
              "            style=\"display:none;\">\n",
              "\n",
              "  <svg xmlns=\"http://www.w3.org/2000/svg\" height=\"24px\" viewBox=\"0 -960 960 960\">\n",
              "    <path d=\"M120-120v-720h720v720H120Zm60-500h600v-160H180v160Zm220 220h160v-160H400v160Zm0 220h160v-160H400v160ZM180-400h160v-160H180v160Zm440 0h160v-160H620v160ZM180-180h160v-160H180v160Zm440 0h160v-160H620v160Z\"/>\n",
              "  </svg>\n",
              "    </button>\n",
              "\n",
              "  <style>\n",
              "    .colab-df-container {\n",
              "      display:flex;\n",
              "      gap: 12px;\n",
              "    }\n",
              "\n",
              "    .colab-df-convert {\n",
              "      background-color: #E8F0FE;\n",
              "      border: none;\n",
              "      border-radius: 50%;\n",
              "      cursor: pointer;\n",
              "      display: none;\n",
              "      fill: #1967D2;\n",
              "      height: 32px;\n",
              "      padding: 0 0 0 0;\n",
              "      width: 32px;\n",
              "    }\n",
              "\n",
              "    .colab-df-convert:hover {\n",
              "      background-color: #E2EBFA;\n",
              "      box-shadow: 0px 1px 2px rgba(60, 64, 67, 0.3), 0px 1px 3px 1px rgba(60, 64, 67, 0.15);\n",
              "      fill: #174EA6;\n",
              "    }\n",
              "\n",
              "    .colab-df-buttons div {\n",
              "      margin-bottom: 4px;\n",
              "    }\n",
              "\n",
              "    [theme=dark] .colab-df-convert {\n",
              "      background-color: #3B4455;\n",
              "      fill: #D2E3FC;\n",
              "    }\n",
              "\n",
              "    [theme=dark] .colab-df-convert:hover {\n",
              "      background-color: #434B5C;\n",
              "      box-shadow: 0px 1px 3px 1px rgba(0, 0, 0, 0.15);\n",
              "      filter: drop-shadow(0px 1px 2px rgba(0, 0, 0, 0.3));\n",
              "      fill: #FFFFFF;\n",
              "    }\n",
              "  </style>\n",
              "\n",
              "    <script>\n",
              "      const buttonEl =\n",
              "        document.querySelector('#df-dab39826-6eff-45de-a87c-44680ee595a0 button.colab-df-convert');\n",
              "      buttonEl.style.display =\n",
              "        google.colab.kernel.accessAllowed ? 'block' : 'none';\n",
              "\n",
              "      async function convertToInteractive(key) {\n",
              "        const element = document.querySelector('#df-dab39826-6eff-45de-a87c-44680ee595a0');\n",
              "        const dataTable =\n",
              "          await google.colab.kernel.invokeFunction('convertToInteractive',\n",
              "                                                    [key], {});\n",
              "        if (!dataTable) return;\n",
              "\n",
              "        const docLinkHtml = 'Like what you see? Visit the ' +\n",
              "          '<a target=\"_blank\" href=https://colab.research.google.com/notebooks/data_table.ipynb>data table notebook</a>'\n",
              "          + ' to learn more about interactive tables.';\n",
              "        element.innerHTML = '';\n",
              "        dataTable['output_type'] = 'display_data';\n",
              "        await google.colab.output.renderOutput(dataTable, element);\n",
              "        const docLink = document.createElement('div');\n",
              "        docLink.innerHTML = docLinkHtml;\n",
              "        element.appendChild(docLink);\n",
              "      }\n",
              "    </script>\n",
              "  </div>\n",
              "\n",
              "\n",
              "<div id=\"df-d3eaaf3b-e1c8-4452-8b1e-a16a730b9861\">\n",
              "  <button class=\"colab-df-quickchart\" onclick=\"quickchart('df-d3eaaf3b-e1c8-4452-8b1e-a16a730b9861')\"\n",
              "            title=\"Suggest charts\"\n",
              "            style=\"display:none;\">\n",
              "\n",
              "<svg xmlns=\"http://www.w3.org/2000/svg\" height=\"24px\"viewBox=\"0 0 24 24\"\n",
              "     width=\"24px\">\n",
              "    <g>\n",
              "        <path d=\"M19 3H5c-1.1 0-2 .9-2 2v14c0 1.1.9 2 2 2h14c1.1 0 2-.9 2-2V5c0-1.1-.9-2-2-2zM9 17H7v-7h2v7zm4 0h-2V7h2v10zm4 0h-2v-4h2v4z\"/>\n",
              "    </g>\n",
              "</svg>\n",
              "  </button>\n",
              "\n",
              "<style>\n",
              "  .colab-df-quickchart {\n",
              "      --bg-color: #E8F0FE;\n",
              "      --fill-color: #1967D2;\n",
              "      --hover-bg-color: #E2EBFA;\n",
              "      --hover-fill-color: #174EA6;\n",
              "      --disabled-fill-color: #AAA;\n",
              "      --disabled-bg-color: #DDD;\n",
              "  }\n",
              "\n",
              "  [theme=dark] .colab-df-quickchart {\n",
              "      --bg-color: #3B4455;\n",
              "      --fill-color: #D2E3FC;\n",
              "      --hover-bg-color: #434B5C;\n",
              "      --hover-fill-color: #FFFFFF;\n",
              "      --disabled-bg-color: #3B4455;\n",
              "      --disabled-fill-color: #666;\n",
              "  }\n",
              "\n",
              "  .colab-df-quickchart {\n",
              "    background-color: var(--bg-color);\n",
              "    border: none;\n",
              "    border-radius: 50%;\n",
              "    cursor: pointer;\n",
              "    display: none;\n",
              "    fill: var(--fill-color);\n",
              "    height: 32px;\n",
              "    padding: 0;\n",
              "    width: 32px;\n",
              "  }\n",
              "\n",
              "  .colab-df-quickchart:hover {\n",
              "    background-color: var(--hover-bg-color);\n",
              "    box-shadow: 0 1px 2px rgba(60, 64, 67, 0.3), 0 1px 3px 1px rgba(60, 64, 67, 0.15);\n",
              "    fill: var(--button-hover-fill-color);\n",
              "  }\n",
              "\n",
              "  .colab-df-quickchart-complete:disabled,\n",
              "  .colab-df-quickchart-complete:disabled:hover {\n",
              "    background-color: var(--disabled-bg-color);\n",
              "    fill: var(--disabled-fill-color);\n",
              "    box-shadow: none;\n",
              "  }\n",
              "\n",
              "  .colab-df-spinner {\n",
              "    border: 2px solid var(--fill-color);\n",
              "    border-color: transparent;\n",
              "    border-bottom-color: var(--fill-color);\n",
              "    animation:\n",
              "      spin 1s steps(1) infinite;\n",
              "  }\n",
              "\n",
              "  @keyframes spin {\n",
              "    0% {\n",
              "      border-color: transparent;\n",
              "      border-bottom-color: var(--fill-color);\n",
              "      border-left-color: var(--fill-color);\n",
              "    }\n",
              "    20% {\n",
              "      border-color: transparent;\n",
              "      border-left-color: var(--fill-color);\n",
              "      border-top-color: var(--fill-color);\n",
              "    }\n",
              "    30% {\n",
              "      border-color: transparent;\n",
              "      border-left-color: var(--fill-color);\n",
              "      border-top-color: var(--fill-color);\n",
              "      border-right-color: var(--fill-color);\n",
              "    }\n",
              "    40% {\n",
              "      border-color: transparent;\n",
              "      border-right-color: var(--fill-color);\n",
              "      border-top-color: var(--fill-color);\n",
              "    }\n",
              "    60% {\n",
              "      border-color: transparent;\n",
              "      border-right-color: var(--fill-color);\n",
              "    }\n",
              "    80% {\n",
              "      border-color: transparent;\n",
              "      border-right-color: var(--fill-color);\n",
              "      border-bottom-color: var(--fill-color);\n",
              "    }\n",
              "    90% {\n",
              "      border-color: transparent;\n",
              "      border-bottom-color: var(--fill-color);\n",
              "    }\n",
              "  }\n",
              "</style>\n",
              "\n",
              "  <script>\n",
              "    async function quickchart(key) {\n",
              "      const quickchartButtonEl =\n",
              "        document.querySelector('#' + key + ' button');\n",
              "      quickchartButtonEl.disabled = true;  // To prevent multiple clicks.\n",
              "      quickchartButtonEl.classList.add('colab-df-spinner');\n",
              "      try {\n",
              "        const charts = await google.colab.kernel.invokeFunction(\n",
              "            'suggestCharts', [key], {});\n",
              "      } catch (error) {\n",
              "        console.error('Error during call to suggestCharts:', error);\n",
              "      }\n",
              "      quickchartButtonEl.classList.remove('colab-df-spinner');\n",
              "      quickchartButtonEl.classList.add('colab-df-quickchart-complete');\n",
              "    }\n",
              "    (() => {\n",
              "      let quickchartButtonEl =\n",
              "        document.querySelector('#df-d3eaaf3b-e1c8-4452-8b1e-a16a730b9861 button');\n",
              "      quickchartButtonEl.style.display =\n",
              "        google.colab.kernel.accessAllowed ? 'block' : 'none';\n",
              "    })();\n",
              "  </script>\n",
              "</div>\n",
              "    </div>\n",
              "  </div>\n"
            ],
            "application/vnd.google.colaboratory.intrinsic+json": {
              "type": "dataframe",
              "variable_name": "cvd_data",
              "summary": "{\n  \"name\": \"cvd_data\",\n  \"rows\": 70000,\n  \"fields\": [\n    {\n      \"column\": \"age\",\n      \"properties\": {\n        \"dtype\": \"number\",\n        \"std\": 6,\n        \"min\": 30,\n        \"max\": 65,\n        \"num_unique_values\": 28,\n        \"samples\": [\n          40,\n          39,\n          41\n        ],\n        \"semantic_type\": \"\",\n        \"description\": \"\"\n      }\n    },\n    {\n      \"column\": \"gender\",\n      \"properties\": {\n        \"dtype\": \"number\",\n        \"std\": 0,\n        \"min\": 0,\n        \"max\": 1,\n        \"num_unique_values\": 2,\n        \"samples\": [\n          0,\n          1\n        ],\n        \"semantic_type\": \"\",\n        \"description\": \"\"\n      }\n    },\n    {\n      \"column\": \"height\",\n      \"properties\": {\n        \"dtype\": \"number\",\n        \"std\": 8,\n        \"min\": 55,\n        \"max\": 250,\n        \"num_unique_values\": 109,\n        \"samples\": [\n          125,\n          181\n        ],\n        \"semantic_type\": \"\",\n        \"description\": \"\"\n      }\n    },\n    {\n      \"column\": \"weight\",\n      \"properties\": {\n        \"dtype\": \"number\",\n        \"std\": 14.39575667851138,\n        \"min\": 10.0,\n        \"max\": 200.0,\n        \"num_unique_values\": 287,\n        \"samples\": [\n          68.0,\n          88.5\n        ],\n        \"semantic_type\": \"\",\n        \"description\": \"\"\n      }\n    },\n    {\n      \"column\": \"bmi\",\n      \"properties\": {\n        \"dtype\": \"number\",\n        \"std\": 6.0914188543135985,\n        \"min\": 3.47,\n        \"max\": 298.67,\n        \"num_unique_values\": 2363,\n        \"samples\": [\n          18.9,\n          17.24\n        ],\n        \"semantic_type\": \"\",\n        \"description\": \"\"\n      }\n    },\n    {\n      \"column\": \"bmi_status\",\n      \"properties\": {\n        \"dtype\": \"number\",\n        \"std\": 0,\n        \"min\": 1,\n        \"max\": 4,\n        \"num_unique_values\": 4,\n        \"samples\": [\n          4,\n          1\n        ],\n        \"semantic_type\": \"\",\n        \"description\": \"\"\n      }\n    },\n    {\n      \"column\": \"systolic_BP\",\n      \"properties\": {\n        \"dtype\": \"number\",\n        \"std\": 154,\n        \"min\": -150,\n        \"max\": 16020,\n        \"num_unique_values\": 153,\n        \"samples\": [\n          11500,\n          17\n        ],\n        \"semantic_type\": \"\",\n        \"description\": \"\"\n      }\n    },\n    {\n      \"column\": \"diastolic_BP\",\n      \"properties\": {\n        \"dtype\": \"number\",\n        \"std\": 188,\n        \"min\": -70,\n        \"max\": 11000,\n        \"num_unique_values\": 157,\n        \"samples\": [\n          810,\n          8044\n        ],\n        \"semantic_type\": \"\",\n        \"description\": \"\"\n      }\n    },\n    {\n      \"column\": \"cholesterol\",\n      \"properties\": {\n        \"dtype\": \"number\",\n        \"std\": 0,\n        \"min\": 0,\n        \"max\": 2,\n        \"num_unique_values\": 3,\n        \"samples\": [\n          0,\n          2\n        ],\n        \"semantic_type\": \"\",\n        \"description\": \"\"\n      }\n    },\n    {\n      \"column\": \"glucose\",\n      \"properties\": {\n        \"dtype\": \"number\",\n        \"std\": 0,\n        \"min\": 0,\n        \"max\": 2,\n        \"num_unique_values\": 3,\n        \"samples\": [\n          0,\n          1\n        ],\n        \"semantic_type\": \"\",\n        \"description\": \"\"\n      }\n    },\n    {\n      \"column\": \"smoking\",\n      \"properties\": {\n        \"dtype\": \"number\",\n        \"std\": 0,\n        \"min\": 0,\n        \"max\": 1,\n        \"num_unique_values\": 2,\n        \"samples\": [\n          1,\n          0\n        ],\n        \"semantic_type\": \"\",\n        \"description\": \"\"\n      }\n    },\n    {\n      \"column\": \"alcohol\",\n      \"properties\": {\n        \"dtype\": \"number\",\n        \"std\": 0,\n        \"min\": 0,\n        \"max\": 1,\n        \"num_unique_values\": 2,\n        \"samples\": [\n          1,\n          0\n        ],\n        \"semantic_type\": \"\",\n        \"description\": \"\"\n      }\n    },\n    {\n      \"column\": \"active\",\n      \"properties\": {\n        \"dtype\": \"number\",\n        \"std\": 0,\n        \"min\": 0,\n        \"max\": 1,\n        \"num_unique_values\": 2,\n        \"samples\": [\n          0,\n          1\n        ],\n        \"semantic_type\": \"\",\n        \"description\": \"\"\n      }\n    },\n    {\n      \"column\": \"cardio\",\n      \"properties\": {\n        \"dtype\": \"number\",\n        \"std\": 0,\n        \"min\": 0,\n        \"max\": 1,\n        \"num_unique_values\": 2,\n        \"samples\": [\n          1,\n          0\n        ],\n        \"semantic_type\": \"\",\n        \"description\": \"\"\n      }\n    }\n  ]\n}"
            }
          },
          "metadata": {},
          "execution_count": 338
        }
      ],
      "source": [
        "import pandas as pd\n",
        "import numpy as np\n",
        "import matplotlib\n",
        "from matplotlib import pyplot as plt\n",
        "%matplotlib inline\n",
        "from sklearn.preprocessing import StandardScaler\n",
        "from sklearn.model_selection import train_test_split\n",
        "\n",
        "#import dataset\n",
        "cvd_data = pd.read_csv('health_data.csv', index_col = 'id')\n",
        "\n",
        "cvd_data.head()"
      ]
    },
    {
      "cell_type": "code",
      "source": [
        "cvd_data = cvd_data[[\"age\",\t\"gender\",\t\"height\",\t\"weight\",\t\"bmi\",\t\"bmi_status\",\t\"systolic_BP\",\t\"diastolic_BP\",\t\"cholesterol\",\t\"glucose\",\t\"smoking\",\t\"alcohol\",\t\"active\", \"cardio\"]]\n"
      ],
      "metadata": {
        "id": "dRQJOGrPef0J"
      },
      "execution_count": 339,
      "outputs": []
    },
    {
      "cell_type": "code",
      "source": [
        "cvd_data.corr()[\"cardio\"]"
      ],
      "metadata": {
        "colab": {
          "base_uri": "https://localhost:8080/"
        },
        "id": "SYsk-kHOefuZ",
        "outputId": "84316a70-d122-45b0-85ea-4061b8717b30"
      },
      "execution_count": 340,
      "outputs": [
        {
          "output_type": "execute_result",
          "data": {
            "text/plain": [
              "age             0.237749\n",
              "gender          0.008109\n",
              "height         -0.010821\n",
              "weight          0.181660\n",
              "bmi             0.165633\n",
              "bmi_status      0.184964\n",
              "systolic_BP     0.054475\n",
              "diastolic_BP    0.065719\n",
              "cholesterol     0.221147\n",
              "glucose         0.089307\n",
              "smoking        -0.015486\n",
              "alcohol        -0.007330\n",
              "active         -0.035653\n",
              "cardio          1.000000\n",
              "Name: cardio, dtype: float64"
            ]
          },
          "metadata": {},
          "execution_count": 340
        }
      ]
    },
    {
      "cell_type": "code",
      "source": [
        "x = cvd_data.drop(\"cardio\", axis=1)\n",
        "y = cvd_data['cardio']"
      ],
      "metadata": {
        "id": "-FTqQabwaqPU"
      },
      "execution_count": 341,
      "outputs": []
    },
    {
      "cell_type": "code",
      "source": [
        "\"\"\"\n",
        "# Define a function to remove outliers using IQR method\n",
        "def remove_outliers_iqr(df, column):\n",
        "    Q1 = df[column].quantile(0.25)\n",
        "    Q3 = df[column].quantile(0.75)\n",
        "    IQR = Q3 - Q1\n",
        "    lower_bound = Q1 - 1.5 * IQR\n",
        "    upper_bound = Q3 + 1.5 * IQR\n",
        "    df[column] = df[column].clip(lower=lower_bound, upper=upper_bound)\n",
        "\n",
        "# Apply outlier removal using IQR method for each feature\n",
        "columns_to_process = [\"height\", \"weight\",\"bmi\", \"systolic_BP\", \"diastolic_BP\"]\n",
        "for column in columns_to_process:\n",
        "    remove_outliers_iqr(cvd_data, column)\n",
        "\"\"\""
      ],
      "metadata": {
        "colab": {
          "base_uri": "https://localhost:8080/",
          "height": 139
        },
        "id": "pCFnPCslJ9CZ",
        "outputId": "613dbac4-d9ac-47db-9468-e26b1e8a9a8e"
      },
      "execution_count": 342,
      "outputs": [
        {
          "output_type": "execute_result",
          "data": {
            "text/plain": [
              "'\\n# Define a function to remove outliers using IQR method\\ndef remove_outliers_iqr(df, column):\\n    Q1 = df[column].quantile(0.25)\\n    Q3 = df[column].quantile(0.75)\\n    IQR = Q3 - Q1\\n    lower_bound = Q1 - 1.5 * IQR\\n    upper_bound = Q3 + 1.5 * IQR\\n    df[column] = df[column].clip(lower=lower_bound, upper=upper_bound)\\n\\n# Apply outlier removal using IQR method for each feature\\ncolumns_to_process = [\"height\", \"weight\",\"bmi\", \"systolic_BP\", \"diastolic_BP\"]\\nfor column in columns_to_process:\\n    remove_outliers_iqr(cvd_data, column)\\n'"
            ],
            "application/vnd.google.colaboratory.intrinsic+json": {
              "type": "string"
            }
          },
          "metadata": {},
          "execution_count": 342
        }
      ]
    },
    {
      "cell_type": "code",
      "source": [
        "# Calculate mean and standard deviation for the feature of interest (e.g., 'numerical_column1')\n",
        "mean_h = cvd_data[\"height\"].mean()\n",
        "sd_h = cvd_data[\"height\"].std()\n",
        "\n",
        "# Define upper and lower limits\n",
        "upper_limit_h = mean_h + (3 * sd_h)\n",
        "lower_limit_h = mean_h - (3 * sd_h)\n",
        "\n",
        "# Replace outliers with either min or max standard deviation value\n",
        "cvd_data.loc[cvd_data[\"height\"] > upper_limit_h, \"height\"] = upper_limit_h\n",
        "cvd_data.loc[cvd_data[\"height\"] < lower_limit_h, \"height\"] = lower_limit_h\n",
        "\n",
        "\n",
        "# Calculate mean and standard deviation for the feature of interest (e.g., 'numerical_column1')\n",
        "mean_w = cvd_data[\"weight\"].mean()\n",
        "sd_w = cvd_data[\"weight\"].std()\n",
        "\n",
        "# Define upper and lower limits\n",
        "upper_limit_w = mean_w + (3 * sd_w)\n",
        "lower_limit_w = mean_w - (3 * sd_w)\n",
        "\n",
        "# Replace outliers with either min or max standard deviation value\n",
        "cvd_data.loc[cvd_data[\"weight\"] > upper_limit_w, \"weight\"] = upper_limit_w\n",
        "cvd_data.loc[cvd_data[\"weight\"] < lower_limit_w, \"weight\"] = lower_limit_w\n",
        "\n",
        "\n",
        "# Calculate mean and standard deviation for the feature of interest (e.g., 'numerical_column1')\n",
        "mean_sbp = cvd_data[\"systolic_BP\"].mean()\n",
        "sd_sbp = cvd_data[\"systolic_BP\"].std()\n",
        "\n",
        "# Define upper and lower limits\n",
        "upper_limit_sbp = mean_sbp + (3 * sd_sbp)\n",
        "lower_limit_sbp = mean_sbp - (3 * sd_sbp)\n",
        "\n",
        "# Replace outliers with either min or max standard deviation value\n",
        "cvd_data.loc[cvd_data[\"systolic_BP\"] > upper_limit_sbp, \"systolic_BP\"] = upper_limit_sbp\n",
        "cvd_data.loc[cvd_data[\"systolic_BP\"] < lower_limit_sbp, \"systolic_BP\"] = lower_limit_sbp\n",
        "\n",
        "\n",
        "# Calculate mean and standard deviation for the feature of interest (e.g., 'numerical_column1')\n",
        "mean_dbp = cvd_data[\"diastolic_BP\"].mean()\n",
        "sd_dbp = cvd_data[\"diastolic_BP\"].std()\n",
        "\n",
        "# Define upper and lower limits\n",
        "upper_limit_dbp = mean_dbp + (3 * sd_dbp)\n",
        "lower_limit_dbp = mean_dbp - (3 * sd_dbp)\n",
        "\n",
        "# Replace outliers with either min or max standard deviation value\n",
        "cvd_data.loc[cvd_data[\"diastolic_BP\"] > upper_limit_dbp, \"diastolic_BP\"] = upper_limit_dbp\n",
        "cvd_data.loc[cvd_data[\"diastolic_BP\"] < lower_limit_dbp, \"diastolic_BP\"] = lower_limit_dbp"
      ],
      "metadata": {
        "id": "WD8YkGuI_MD6"
      },
      "execution_count": 343,
      "outputs": []
    },
    {
      "cell_type": "code",
      "source": [
        "from sklearn.model_selection import train_test_split\n",
        "\n",
        "x_train, x_test, y_train, y_test = train_test_split(x,y,test_size=0.2,random_state=100)"
      ],
      "metadata": {
        "id": "92GmgIQJb3ir"
      },
      "execution_count": 344,
      "outputs": []
    },
    {
      "cell_type": "code",
      "source": [
        "\"\"\"\n",
        "# Removing outliers\n",
        "z_scores = (x_train[numerical_columns] - x_train[numerical_columns].mean()) / x_train[numerical_columns].std()\n",
        "threshold = 3\n",
        "outlier_indices = np.where((np.abs(z_scores) > threshold).any(axis=1))[0]\n",
        "\n",
        "# Drop only valid indices\n",
        "valid_indices = np.intersect1d(outlier_indices, x_train.index)\n",
        "x_train_no_outliers = x_train.drop(index=valid_indices)\n",
        "y_train_no_outliers = y_train.drop(index=valid_indices)\n",
        "\"\"\""
      ],
      "metadata": {
        "colab": {
          "base_uri": "https://localhost:8080/",
          "height": 122
        },
        "id": "zG6cVNqiS6AS",
        "outputId": "bdcb4f1b-e206-4087-cc1b-8035662a3813"
      },
      "execution_count": 345,
      "outputs": [
        {
          "output_type": "execute_result",
          "data": {
            "text/plain": [
              "'\\n# Removing outliers\\nz_scores = (x_train[numerical_columns] - x_train[numerical_columns].mean()) / x_train[numerical_columns].std()\\nthreshold = 3\\noutlier_indices = np.where((np.abs(z_scores) > threshold).any(axis=1))[0]\\n\\n# Drop only valid indices\\nvalid_indices = np.intersect1d(outlier_indices, x_train.index)\\nx_train_no_outliers = x_train.drop(index=valid_indices)\\ny_train_no_outliers = y_train.drop(index=valid_indices)\\n'"
            ],
            "application/vnd.google.colaboratory.intrinsic+json": {
              "type": "string"
            }
          },
          "metadata": {},
          "execution_count": 345
        }
      ]
    },
    {
      "cell_type": "code",
      "source": [
        "from sklearn.linear_model import LogisticRegression\n",
        "log_reg = LogisticRegression()\n",
        "log_reg.fit(x_train, y_train)"
      ],
      "metadata": {
        "colab": {
          "base_uri": "https://localhost:8080/",
          "height": 234
        },
        "id": "7DbhNnzONo4u",
        "outputId": "a0c1fe2f-938f-4b9b-b260-0302fd714ae2"
      },
      "execution_count": 346,
      "outputs": [
        {
          "output_type": "stream",
          "name": "stderr",
          "text": [
            "/usr/local/lib/python3.10/dist-packages/sklearn/linear_model/_logistic.py:458: ConvergenceWarning: lbfgs failed to converge (status=1):\n",
            "STOP: TOTAL NO. of ITERATIONS REACHED LIMIT.\n",
            "\n",
            "Increase the number of iterations (max_iter) or scale the data as shown in:\n",
            "    https://scikit-learn.org/stable/modules/preprocessing.html\n",
            "Please also refer to the documentation for alternative solver options:\n",
            "    https://scikit-learn.org/stable/modules/linear_model.html#logistic-regression\n",
            "  n_iter_i = _check_optimize_result(\n"
          ]
        },
        {
          "output_type": "execute_result",
          "data": {
            "text/plain": [
              "LogisticRegression()"
            ],
            "text/html": [
              "<style>#sk-container-id-14 {color: black;background-color: white;}#sk-container-id-14 pre{padding: 0;}#sk-container-id-14 div.sk-toggleable {background-color: white;}#sk-container-id-14 label.sk-toggleable__label {cursor: pointer;display: block;width: 100%;margin-bottom: 0;padding: 0.3em;box-sizing: border-box;text-align: center;}#sk-container-id-14 label.sk-toggleable__label-arrow:before {content: \"▸\";float: left;margin-right: 0.25em;color: #696969;}#sk-container-id-14 label.sk-toggleable__label-arrow:hover:before {color: black;}#sk-container-id-14 div.sk-estimator:hover label.sk-toggleable__label-arrow:before {color: black;}#sk-container-id-14 div.sk-toggleable__content {max-height: 0;max-width: 0;overflow: hidden;text-align: left;background-color: #f0f8ff;}#sk-container-id-14 div.sk-toggleable__content pre {margin: 0.2em;color: black;border-radius: 0.25em;background-color: #f0f8ff;}#sk-container-id-14 input.sk-toggleable__control:checked~div.sk-toggleable__content {max-height: 200px;max-width: 100%;overflow: auto;}#sk-container-id-14 input.sk-toggleable__control:checked~label.sk-toggleable__label-arrow:before {content: \"▾\";}#sk-container-id-14 div.sk-estimator input.sk-toggleable__control:checked~label.sk-toggleable__label {background-color: #d4ebff;}#sk-container-id-14 div.sk-label input.sk-toggleable__control:checked~label.sk-toggleable__label {background-color: #d4ebff;}#sk-container-id-14 input.sk-hidden--visually {border: 0;clip: rect(1px 1px 1px 1px);clip: rect(1px, 1px, 1px, 1px);height: 1px;margin: -1px;overflow: hidden;padding: 0;position: absolute;width: 1px;}#sk-container-id-14 div.sk-estimator {font-family: monospace;background-color: #f0f8ff;border: 1px dotted black;border-radius: 0.25em;box-sizing: border-box;margin-bottom: 0.5em;}#sk-container-id-14 div.sk-estimator:hover {background-color: #d4ebff;}#sk-container-id-14 div.sk-parallel-item::after {content: \"\";width: 100%;border-bottom: 1px solid gray;flex-grow: 1;}#sk-container-id-14 div.sk-label:hover label.sk-toggleable__label {background-color: #d4ebff;}#sk-container-id-14 div.sk-serial::before {content: \"\";position: absolute;border-left: 1px solid gray;box-sizing: border-box;top: 0;bottom: 0;left: 50%;z-index: 0;}#sk-container-id-14 div.sk-serial {display: flex;flex-direction: column;align-items: center;background-color: white;padding-right: 0.2em;padding-left: 0.2em;position: relative;}#sk-container-id-14 div.sk-item {position: relative;z-index: 1;}#sk-container-id-14 div.sk-parallel {display: flex;align-items: stretch;justify-content: center;background-color: white;position: relative;}#sk-container-id-14 div.sk-item::before, #sk-container-id-14 div.sk-parallel-item::before {content: \"\";position: absolute;border-left: 1px solid gray;box-sizing: border-box;top: 0;bottom: 0;left: 50%;z-index: -1;}#sk-container-id-14 div.sk-parallel-item {display: flex;flex-direction: column;z-index: 1;position: relative;background-color: white;}#sk-container-id-14 div.sk-parallel-item:first-child::after {align-self: flex-end;width: 50%;}#sk-container-id-14 div.sk-parallel-item:last-child::after {align-self: flex-start;width: 50%;}#sk-container-id-14 div.sk-parallel-item:only-child::after {width: 0;}#sk-container-id-14 div.sk-dashed-wrapped {border: 1px dashed gray;margin: 0 0.4em 0.5em 0.4em;box-sizing: border-box;padding-bottom: 0.4em;background-color: white;}#sk-container-id-14 div.sk-label label {font-family: monospace;font-weight: bold;display: inline-block;line-height: 1.2em;}#sk-container-id-14 div.sk-label-container {text-align: center;}#sk-container-id-14 div.sk-container {/* jupyter's `normalize.less` sets `[hidden] { display: none; }` but bootstrap.min.css set `[hidden] { display: none !important; }` so we also need the `!important` here to be able to override the default hidden behavior on the sphinx rendered scikit-learn.org. See: https://github.com/scikit-learn/scikit-learn/issues/21755 */display: inline-block !important;position: relative;}#sk-container-id-14 div.sk-text-repr-fallback {display: none;}</style><div id=\"sk-container-id-14\" class=\"sk-top-container\"><div class=\"sk-text-repr-fallback\"><pre>LogisticRegression()</pre><b>In a Jupyter environment, please rerun this cell to show the HTML representation or trust the notebook. <br />On GitHub, the HTML representation is unable to render, please try loading this page with nbviewer.org.</b></div><div class=\"sk-container\" hidden><div class=\"sk-item\"><div class=\"sk-estimator sk-toggleable\"><input class=\"sk-toggleable__control sk-hidden--visually\" id=\"sk-estimator-id-14\" type=\"checkbox\" checked><label for=\"sk-estimator-id-14\" class=\"sk-toggleable__label sk-toggleable__label-arrow\">LogisticRegression</label><div class=\"sk-toggleable__content\"><pre>LogisticRegression()</pre></div></div></div></div></div>"
            ]
          },
          "metadata": {},
          "execution_count": 346
        }
      ]
    },
    {
      "cell_type": "code",
      "source": [
        "y_log_reg_train_prediction = log_reg.predict(x_train)\n",
        "y_log_reg_test_prediction = log_reg.predict(x_test)\n",
        "y_log_reg_test_prediction"
      ],
      "metadata": {
        "colab": {
          "base_uri": "https://localhost:8080/"
        },
        "id": "cuKNVH6_aDVS",
        "outputId": "c4cb108a-5849-4cf2-d45d-908c50e4c305"
      },
      "execution_count": 347,
      "outputs": [
        {
          "output_type": "execute_result",
          "data": {
            "text/plain": [
              "array([1, 0, 0, ..., 1, 0, 1])"
            ]
          },
          "metadata": {},
          "execution_count": 347
        }
      ]
    },
    {
      "cell_type": "code",
      "source": [
        "from sklearn.metrics import mean_squared_error, r2_score\n",
        "\n",
        "log_reg_train_mse = mean_squared_error(y_train,y_log_reg_train_prediction)\n",
        "log_reg_train_r2 = r2_score(y_train,y_log_reg_train_prediction)\n",
        "\n",
        "log_reg_test_mse = mean_squared_error(y_test,y_log_reg_test_prediction)\n",
        "log_reg_test_r2 = r2_score(y_test,y_log_reg_test_prediction)\n",
        "\n",
        "\n",
        "print('log_reg MSE TRAIN : ',log_reg_train_mse)\n",
        "print('log_reg R2 TRAIN : ',log_reg_train_r2)\n",
        "print('log_reg MSE Test : ',log_reg_test_mse)\n",
        "print('log_reg R2 Test : ',log_reg_test_r2)"
      ],
      "metadata": {
        "colab": {
          "base_uri": "https://localhost:8080/"
        },
        "id": "soUasR4uaHFX",
        "outputId": "bb90fa4b-7228-40cc-f6d2-72478a21cfe4"
      },
      "execution_count": 348,
      "outputs": [
        {
          "output_type": "stream",
          "name": "stdout",
          "text": [
            "log_reg MSE TRAIN :  0.27675\n",
            "log_reg R2 TRAIN :  -0.10700381803357639\n",
            "log_reg MSE Test :  0.2797142857142857\n",
            "log_reg R2 Test :  -0.11887908658780044\n"
          ]
        }
      ]
    },
    {
      "cell_type": "code",
      "source": [
        "from sklearn import metrics\n",
        "#42 - 69.8\n",
        "#100 - 70.5\n",
        "#0 - 69.6\n",
        "#2022 - 69.4\n",
        "print(\"Logistic regression model accuracy(in %):\", metrics.accuracy_score(y_test, y_log_reg_test_prediction)*100)\n"
      ],
      "metadata": {
        "colab": {
          "base_uri": "https://localhost:8080/"
        },
        "id": "an2UW5tcaDLr",
        "outputId": "a134884a-00f5-47fb-f798-c744498be434"
      },
      "execution_count": 349,
      "outputs": [
        {
          "output_type": "stream",
          "name": "stdout",
          "text": [
            "Logistic regression model accuracy(in %): 72.02857142857142\n"
          ]
        }
      ]
    },
    {
      "cell_type": "code",
      "source": [
        "import joblib\n",
        "joblib.dump(log_reg, 'logistic_regression_model.pkl')"
      ],
      "metadata": {
        "colab": {
          "base_uri": "https://localhost:8080/"
        },
        "id": "ALyPhUqgc2Zi",
        "outputId": "875cfccc-f6d5-418b-f127-bc430702aaae"
      },
      "execution_count": 350,
      "outputs": [
        {
          "output_type": "execute_result",
          "data": {
            "text/plain": [
              "['logistic_regression_model.pkl']"
            ]
          },
          "metadata": {},
          "execution_count": 350
        }
      ]
    },
    {
      "cell_type": "code",
      "source": [
        "#numerical_columns = [\"age\",\t\"height\",\t\"weight\",\t\"bmi\",\t\"systolic_BP\",\t\"diastolic_BP\"]\n",
        "#scaler = StandardScaler()\n",
        "#cvd_data[numerical_columns] = scaler.fit_transform(cvd_data[numerical_columns])"
      ],
      "metadata": {
        "id": "k_xG3jM1efgX"
      },
      "execution_count": 351,
      "outputs": []
    },
    {
      "cell_type": "code",
      "source": [
        "#categorical_columns = [\"gender\", \"bmi_status\", \"cholesterol\",\t\"glucose\"]\n",
        "#cvd_data = pd.get_dummies(cvd_data, columns=categorical_columns)"
      ],
      "metadata": {
        "id": "3V51I8Zv_MIf"
      },
      "execution_count": 352,
      "outputs": []
    }
  ]
}